{
 "cells": [
  {
   "cell_type": "markdown",
   "metadata": {},
   "source": [
    "# Association in Python"
   ]
  },
  {
   "cell_type": "code",
   "execution_count": 1,
   "metadata": {},
   "outputs": [
    {
     "name": "stdout",
     "output_type": "stream",
     "text": [
      "Employees in HR department:\n",
      "Employee: John Doe, ID: 101\n",
      "Employee: Jane Smith, ID: 102\n"
     ]
    }
   ],
   "source": [
    "class Department:\n",
    "    def __init__(self, name):\n",
    "        self.name = name\n",
    "        self.employees = []\n",
    "\n",
    "    def add_employee(self, employee):\n",
    "        self.employees.append(employee)\n",
    "\n",
    "class Employee:\n",
    "    def __init__(self, name, employee_id):\n",
    "        self.name = name\n",
    "        self.employee_id = employee_id\n",
    "\n",
    "# Creating instances of classes\n",
    "hr_department = Department(\"HR\")\n",
    "john = Employee(\"John Doe\", 101)\n",
    "jane = Employee(\"Jane Smith\", 102)\n",
    "\n",
    "# Establishing association between instances\n",
    "hr_department.add_employee(john)\n",
    "hr_department.add_employee(jane)\n",
    "\n",
    "# Accessing associated objects\n",
    "print(f\"Employees in {hr_department.name} department:\")\n",
    "for employee in hr_department.employees:\n",
    "    print(f\"Employee: {employee.name}, ID: {employee.employee_id}\")"
   ]
  }
 ],
 "metadata": {
  "kernelspec": {
   "display_name": "Python 3",
   "language": "python",
   "name": "python3"
  },
  "language_info": {
   "codemirror_mode": {
    "name": "ipython",
    "version": 3
   },
   "file_extension": ".py",
   "mimetype": "text/x-python",
   "name": "python",
   "nbconvert_exporter": "python",
   "pygments_lexer": "ipython3",
   "version": "3.11.4"
  }
 },
 "nbformat": 4,
 "nbformat_minor": 2
}
