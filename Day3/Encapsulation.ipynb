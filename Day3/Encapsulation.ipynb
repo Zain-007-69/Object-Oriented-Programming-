{
 "cells": [
  {
   "cell_type": "markdown",
   "metadata": {},
   "source": [
    "# Encapsulation in Python"
   ]
  },
  {
   "cell_type": "code",
   "execution_count": 2,
   "metadata": {},
   "outputs": [
    {
     "name": "stdout",
     "output_type": "stream",
     "text": [
      "Make: Toyota\n",
      "Model: Camry\n",
      "Mileage: 0\n",
      "Mileage after driving: 50\n"
     ]
    }
   ],
   "source": [
    "class Car:\n",
    "    def __init__(self, make, model):\n",
    "        self.__make = make  # private attribute\n",
    "        self.__model = model  # private attribute\n",
    "        self.__mileage = 0  # private attribute\n",
    "\n",
    "    def get_make(self):  # getter method\n",
    "        return self.__make\n",
    "\n",
    "    def get_model(self):  # getter method\n",
    "        return self.__model\n",
    "\n",
    "    def get_mileage(self):  # getter method\n",
    "        return self.__mileage\n",
    "\n",
    "    def drive(self, distance):  # public method\n",
    "        if distance > 0:\n",
    "            self.__mileage += distance\n",
    "\n",
    "# Creating an instance of the Car class\n",
    "my_car = Car(\"Toyota\", \"Camry\")\n",
    "\n",
    "# Accessing private attributes using getter methods\n",
    "print(\"Make:\", my_car.get_make())  # Output: Toyota\n",
    "print(\"Model:\", my_car.get_model())  # Output: Camry\n",
    "\n",
    "# Accessing and modifying private attribute using public method\n",
    "print(\"Mileage:\", my_car.get_mileage())  # Output: 0\n",
    "my_car.drive(50)\n",
    "print(\"Mileage after driving:\", my_car.get_mileage())  # Output: 50"
   ]
  }
 ],
 "metadata": {
  "kernelspec": {
   "display_name": "Python 3",
   "language": "python",
   "name": "python3"
  },
  "language_info": {
   "codemirror_mode": {
    "name": "ipython",
    "version": 3
   },
   "file_extension": ".py",
   "mimetype": "text/x-python",
   "name": "python",
   "nbconvert_exporter": "python",
   "pygments_lexer": "ipython3",
   "version": "3.11.4"
  }
 },
 "nbformat": 4,
 "nbformat_minor": 2
}
