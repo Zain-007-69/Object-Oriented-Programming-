{
 "cells": [
  {
   "cell_type": "markdown",
   "metadata": {},
   "source": [
    "# Composition in Python"
   ]
  },
  {
   "cell_type": "code",
   "execution_count": 1,
   "metadata": {},
   "outputs": [
    {
     "name": "stdout",
     "output_type": "stream",
     "text": [
      "Car started. Engine started\n",
      "Car stopped. Engine stopped\n"
     ]
    }
   ],
   "source": [
    "class Engine:\n",
    "    def start(self):\n",
    "        return \"Engine started\"\n",
    "\n",
    "    def stop(self):\n",
    "        return \"Engine stopped\"\n",
    "\n",
    "class Car:\n",
    "    def __init__(self):\n",
    "        # Composition: Creating an instance of Engine as part of the Car\n",
    "        self.engine = Engine()\n",
    "\n",
    "    def start(self):\n",
    "        return f\"Car started. {self.engine.start()}\"\n",
    "\n",
    "    def stop(self):\n",
    "        return f\"Car stopped. {self.engine.stop()}\"\n",
    "\n",
    "# Creating an instance of Car\n",
    "my_car = Car()\n",
    "\n",
    "# Using composition to access the Engine's functionality\n",
    "print(my_car.start())  # Output: Car started. Engine started\n",
    "print(my_car.stop())   # Output: Car stopped. Engine stopped"
   ]
  }
 ],
 "metadata": {
  "kernelspec": {
   "display_name": "Python 3",
   "language": "python",
   "name": "python3"
  },
  "language_info": {
   "codemirror_mode": {
    "name": "ipython",
    "version": 3
   },
   "file_extension": ".py",
   "mimetype": "text/x-python",
   "name": "python",
   "nbconvert_exporter": "python",
   "pygments_lexer": "ipython3",
   "version": "3.11.4"
  }
 },
 "nbformat": 4,
 "nbformat_minor": 2
}
