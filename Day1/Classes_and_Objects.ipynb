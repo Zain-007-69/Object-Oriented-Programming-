{
 "cells": [
  {
   "cell_type": "markdown",
   "metadata": {},
   "source": [
    "# **Classes and Objects**"
   ]
  },
  {
   "cell_type": "markdown",
   "metadata": {},
   "source": [
    "### **1. Defining Classes and Creating Objects:**"
   ]
  },
  {
   "cell_type": "markdown",
   "metadata": {},
   "source": [
    "In Python, a class is a user-defined data type that represents a blueprint for creating objects. Objects are instances of classes, representing real-world entities and the operations that can be performed on them.\n",
    "\n",
    "**Class Definition:**"
   ]
  },
  {
   "cell_type": "code",
   "execution_count": 25,
   "metadata": {},
   "outputs": [],
   "source": [
    "class Car:\n",
    "    def __init__(self, brand, model):\n",
    "        self.brand = brand\n",
    "        self.model = model\n",
    "\n",
    "    def display_info(self):\n",
    "        print(f\"{self.brand} {self.model}\")"
   ]
  },
  {
   "cell_type": "markdown",
   "metadata": {},
   "source": [
    "The `Car` class has attributes `brand` and `model` and a method `display_info` that prints the car's information."
   ]
  },
  {
   "cell_type": "markdown",
   "metadata": {},
   "source": [
    "**Object Instantiation:**"
   ]
  },
  {
   "cell_type": "code",
   "execution_count": 26,
   "metadata": {},
   "outputs": [],
   "source": [
    "my_car = Car(\"Toyota\", \"Camry\")"
   ]
  },
  {
   "cell_type": "markdown",
   "metadata": {},
   "source": [
    "`my_car` is an object of the `Car` class with the brand \"Toyota\" and model \"Camry.\""
   ]
  },
  {
   "cell_type": "markdown",
   "metadata": {},
   "source": [
    "### **2. Class Attributes and Instance Attributes:**\n",
    "**Class Attributes:**\n",
    "\n",
    "Class attributes are shared among all instances of a class. They are defined outside any method and are accessed using the class name."
   ]
  },
  {
   "cell_type": "code",
   "execution_count": 27,
   "metadata": {},
   "outputs": [],
   "source": [
    "class Dog:\n",
    "    total_dogs = 0  # Class attribute\n",
    "\n",
    "    def __init__(self, name, age):\n",
    "        self.name = name\n",
    "        self.age = age\n",
    "        Dog.total_dogs += 1  # Incrementing class attribute"
   ]
  },
  {
   "cell_type": "markdown",
   "metadata": {},
   "source": [
    "`total_dogs` is a class attribute shared by all instances of the `Dog` class.\n",
    "**Instance Attributes:**\n",
    "\n",
    "Instance attributes are specific to each instance of a class. They are defined within methods using the `self` parameter."
   ]
  },
  {
   "cell_type": "code",
   "execution_count": 28,
   "metadata": {},
   "outputs": [],
   "source": [
    "def __init__(self, name, age):\n",
    "    self.name = name  # Instance attribute\n",
    "    self.age = age"
   ]
  },
  {
   "cell_type": "markdown",
   "metadata": {},
   "source": [
    "`name` and `age` are instance attributes unique to each instance of the `Dog` class."
   ]
  },
  {
   "cell_type": "markdown",
   "metadata": {},
   "source": [
    "### **3. Methods - Instance Methods, Class Methods, and Static Methods:**\n",
    "**Instance Methods:**\n",
    "\n",
    "Instance methods are defined within a class and are called on instances of that class. They have access to instance attributes and can modify the object's state."
   ]
  },
  {
   "cell_type": "code",
   "execution_count": 29,
   "metadata": {},
   "outputs": [],
   "source": [
    "def display_info(self):\n",
    "    print(f\"{self.brand} {self.model}\")"
   ]
  },
  {
   "cell_type": "markdown",
   "metadata": {},
   "source": [
    "`display_info` is an instance method that prints information about a `Car` object."
   ]
  },
  {
   "cell_type": "markdown",
   "metadata": {},
   "source": [
    "**Class Methods:**\n",
    "\n",
    "Class methods are defined using the `@classmethod` decorator. They take the class itself (`cls`) as the first parameter and can access and modify class attributes."
   ]
  },
  {
   "cell_type": "code",
   "execution_count": 30,
   "metadata": {},
   "outputs": [],
   "source": [
    "@classmethod\n",
    "def total_dogs(cls):\n",
    "    print(f\"Total dogs: {cls.total_dogs}\")"
   ]
  },
  {
   "cell_type": "markdown",
   "metadata": {},
   "source": [
    "`total_dogs` is a class method that prints the total number of dogs."
   ]
  },
  {
   "cell_type": "markdown",
   "metadata": {},
   "source": [
    "**Static Methods:**\n",
    "\n",
    "Static methods are defined using the `@staticmethod` decorator. They do not have access to instance or class attributes and are mainly used for utility functions."
   ]
  },
  {
   "cell_type": "code",
   "execution_count": 31,
   "metadata": {},
   "outputs": [],
   "source": [
    "@staticmethod\n",
    "def is_adult(age):\n",
    "    return age >= 2"
   ]
  },
  {
   "cell_type": "markdown",
   "metadata": {},
   "source": [
    "`is_adult` is a static method that checks if a dog is considered an adult based on its age."
   ]
  },
  {
   "cell_type": "markdown",
   "metadata": {},
   "source": [
    "**Usage of Methods:**"
   ]
  },
  {
   "cell_type": "code",
   "execution_count": 32,
   "metadata": {},
   "outputs": [
    {
     "name": "stdout",
     "output_type": "stream",
     "text": [
      "Buddy is 3 years old.\n",
      "Total dogs: 2\n",
      "True\n"
     ]
    }
   ],
   "source": [
    "class Dog:\n",
    "    total_dogs = 0  # Class attribute\n",
    "\n",
    "    def __init__(self, name, age):\n",
    "        self.name = name\n",
    "        self.age = age\n",
    "        Dog.total_dogs += 1  # Incrementing class attribute\n",
    "\n",
    "    def display_info(self):\n",
    "        print(f\"{self.name} is {self.age} years old.\")\n",
    "\n",
    "    @classmethod\n",
    "    def display_total_dogs(cls):\n",
    "        print(f\"Total dogs: {cls.total_dogs}\")\n",
    "\n",
    "    @staticmethod\n",
    "    def is_adult(age):\n",
    "        return age >= 2\n",
    "\n",
    "# Creating instances of the Dog class\n",
    "dog1 = Dog(\"Buddy\", 3)\n",
    "dog2 = Dog(\"Max\", 1)\n",
    "\n",
    "# Using instance method\n",
    "dog1.display_info()  # Output: Buddy is 3 years old.\n",
    "\n",
    "# Using class method\n",
    "Dog.display_total_dogs()  # Output: Total dogs: 2\n",
    "\n",
    "# Using static method\n",
    "is_adult_result = Dog.is_adult(3)\n",
    "print(is_adult_result)  # Output: True"
   ]
  }
 ],
 "metadata": {
  "kernelspec": {
   "display_name": "Python 3",
   "language": "python",
   "name": "python3"
  },
  "language_info": {
   "codemirror_mode": {
    "name": "ipython",
    "version": 3
   },
   "file_extension": ".py",
   "mimetype": "text/x-python",
   "name": "python",
   "nbconvert_exporter": "python",
   "pygments_lexer": "ipython3",
   "version": "3.11.4"
  }
 },
 "nbformat": 4,
 "nbformat_minor": 2
}
